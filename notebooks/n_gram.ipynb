{
  "nbformat": 4,
  "nbformat_minor": 0,
  "metadata": {
    "colab": {
      "name": "n-gram.ipynb",
      "provenance": [],
      "collapsed_sections": []
    },
    "kernelspec": {
      "name": "python3",
      "display_name": "Python 3"
    }
  },
  "cells": [
    {
      "cell_type": "code",
      "metadata": {
        "colab": {
          "base_uri": "https://localhost:8080/"
        },
        "id": "Gzcu9Rfpwy5C",
        "outputId": "f10baf7b-d28a-4664-8fc2-28d041722481"
      },
      "source": [
        "import nltk\n",
        "nltk.download('reuters')\n",
        "nltk.download('punkt')"
      ],
      "execution_count": 10,
      "outputs": [
        {
          "output_type": "stream",
          "text": [
            "[nltk_data] Downloading package reuters to /root/nltk_data...\n",
            "[nltk_data]   Package reuters is already up-to-date!\n",
            "[nltk_data] Downloading package punkt to /root/nltk_data...\n",
            "[nltk_data]   Unzipping tokenizers/punkt.zip.\n"
          ],
          "name": "stdout"
        },
        {
          "output_type": "execute_result",
          "data": {
            "text/plain": [
              "True"
            ]
          },
          "metadata": {
            "tags": []
          },
          "execution_count": 10
        }
      ]
    },
    {
      "cell_type": "code",
      "metadata": {
        "id": "9VlcdBCm0W1h"
      },
      "source": [
        "from nltk.corpus import reuters"
      ],
      "execution_count": 2,
      "outputs": []
    },
    {
      "cell_type": "code",
      "metadata": {
        "id": "moERmfQS0eTV"
      },
      "source": [
        "text = reuters.raw()"
      ],
      "execution_count": 6,
      "outputs": []
    },
    {
      "cell_type": "code",
      "metadata": {
        "colab": {
          "base_uri": "https://localhost:8080/",
          "height": 86
        },
        "id": "DSEJBzkW0fLR",
        "outputId": "db828f20-711b-452b-f400-79f8868965e1"
      },
      "source": [
        "text[:500]"
      ],
      "execution_count": 8,
      "outputs": [
        {
          "output_type": "execute_result",
          "data": {
            "application/vnd.google.colaboratory.intrinsic+json": {
              "type": "string"
            },
            "text/plain": [
              "\"ASIAN EXPORTERS FEAR DAMAGE FROM U.S.-JAPAN RIFT\\n  Mounting trade friction between the\\n  U.S. And Japan has raised fears among many of Asia's exporting\\n  nations that the row could inflict far-reaching economic\\n  damage, businessmen and officials said.\\n      They told Reuter correspondents in Asian capitals a U.S.\\n  Move against Japan might boost protectionist sentiment in the\\n  U.S. And lead to curbs on American imports of their products.\\n      But some exporters said that while the conflict wo\""
            ]
          },
          "metadata": {
            "tags": []
          },
          "execution_count": 8
        }
      ]
    },
    {
      "cell_type": "code",
      "metadata": {
        "id": "WdeRKY1j1z81"
      },
      "source": [
        "from collections import defaultdict\n",
        "\n",
        "START_TOKEN = '<s>'\n",
        "END_TOKEN = '<e>'\n",
        "\n",
        "def preprocess_sentence(sentence):\n",
        "    return [word.lower() for word in word_tokenize(sentence)]\n",
        "\n",
        "def preprocess_text(text):\n",
        "    return [preprocess_sentence(sentence) for sentence in sent_tokenize(text)]\n",
        "\n",
        "def build_n_grams(sentences, n=2):\n",
        "    n_grams = defaultdict(int)\n",
        "\n",
        "    for sentence in sentences:\n",
        "        sentence = [START_TOKEN] * (n-1) + sentence + [END_TOKEN]\n",
        "\n",
        "        for i in range(len(sentence)-n+1):\n",
        "            n_grams[tuple(sentence[i:i+n])] += 1\n",
        "    \n",
        "    return n_grams\n",
        "\n",
        "def estimate_prob_n_gram(n_gram, n_grams, n_minus_1_grams, vocab_size, k=1):\n",
        "    n_minus_1_gram = tuple(n_gram[:-1])\n",
        "    return (n_grams.get(tuple(n_gram), 0) + k) / (n_minus_1_grams.get(n_minus_1_gram, 0) + k * vocab_size)"
      ],
      "execution_count": 87,
      "outputs": []
    },
    {
      "cell_type": "code",
      "metadata": {
        "id": "fIdMro1OK5mE"
      },
      "source": [
        "sentences = preprocess_text(text)"
      ],
      "execution_count": 60,
      "outputs": []
    },
    {
      "cell_type": "code",
      "metadata": {
        "id": "WTuv-pRE-lIE"
      },
      "source": [
        "unigrams = build_n_grams(sentences, n=1)\n",
        "bigrams = build_n_grams(sentences, n=2)"
      ],
      "execution_count": 61,
      "outputs": []
    },
    {
      "cell_type": "code",
      "metadata": {
        "id": "H3hykcYACEAG"
      },
      "source": [
        "vocab = [key[0] for key in unigrams.keys()]"
      ],
      "execution_count": 85,
      "outputs": []
    },
    {
      "cell_type": "code",
      "metadata": {
        "colab": {
          "base_uri": "https://localhost:8080/"
        },
        "id": "E_Qq_PQfCGjn",
        "outputId": "6e85f5f6-70f2-466b-e601-90b518d7b0bc"
      },
      "source": [
        "len(vocab)"
      ],
      "execution_count": 86,
      "outputs": [
        {
          "output_type": "execute_result",
          "data": {
            "text/plain": [
              "52708"
            ]
          },
          "metadata": {
            "tags": []
          },
          "execution_count": 86
        }
      ]
    },
    {
      "cell_type": "code",
      "metadata": {
        "colab": {
          "base_uri": "https://localhost:8080/"
        },
        "id": "Oqxk2b4__UTw",
        "outputId": "1f5d5156-081c-4c8d-b72d-8a0ff7a7a01b"
      },
      "source": [
        "print(estimate_prob_n_gram(['they', 'told'], bigrams, unigrams, len(vocab)))"
      ],
      "execution_count": 91,
      "outputs": [
        {
          "output_type": "stream",
          "text": [
            "0.0001627457008010705\n"
          ],
          "name": "stdout"
        }
      ]
    },
    {
      "cell_type": "code",
      "metadata": {
        "id": "eYWPG_0jDfdl"
      },
      "source": [
        "N_GRAMS_MAP = [unigrams, bigrams]\n",
        "\n",
        "def suggest_word(text, vocab, context_size=1):\n",
        "    sentence = preprocess_sentence(text)\n",
        "    max_prob = None\n",
        "    probable_word = None\n",
        "\n",
        "    for word in vocab:\n",
        "        context = sentence[-context_size:]\n",
        "        n_gram = context + (context_size - len(context)) * [START_TOKEN] + [word]\n",
        "        n_gram_prob = estimate_prob_n_gram(n_gram,\n",
        "                                           n_grams=N_GRAMS_MAP[context_size],\n",
        "                                           n_minus_1_grams=N_GRAMS_MAP[context_size-1],\n",
        "                                           vocab_size=len(vocab))\n",
        "        if max_prob is None or max_prob < n_gram_prob:\n",
        "            max_prob = n_gram_prob\n",
        "            probable_word = word\n",
        "    \n",
        "    return probable_word"
      ],
      "execution_count": 90,
      "outputs": []
    },
    {
      "cell_type": "code",
      "metadata": {
        "colab": {
          "base_uri": "https://localhost:8080/"
        },
        "id": "fOITg9GgKpL3",
        "outputId": "a4cc7041-7b73-4ff3-cb27-d2145e5c6b82"
      },
      "source": [
        "print(suggest_word('move against the', vocab))"
      ],
      "execution_count": 98,
      "outputs": [
        {
          "output_type": "stream",
          "text": [
            "company\n"
          ],
          "name": "stdout"
        }
      ]
    },
    {
      "cell_type": "code",
      "metadata": {
        "id": "S5fHpCB8K3RZ"
      },
      "source": [
        "def calculate_perplexity(sentence, n_grams, n_minus_1_grams, vocab):\n",
        "    n = len(list(n_grams.keys())[0])\n",
        "    sentence = preprocess_sentence(sentence)\n",
        "    sentence = [START_TOKEN] * (n-1) + sentence + [END_TOKEN]\n",
        "    N = len(sentence)\n",
        "    sentence_prob = 1\n",
        "\n",
        "    for i in range(len(sentence)-n+1):\n",
        "        prob = estimate_prob_n_gram(sentence[i:i+n], n_grams, n_minus_1_grams, len(vocab))\n",
        "        sentence_prob *= prob\n",
        "    \n",
        "    return (1 / sentence_prob) ** (1 / N)"
      ],
      "execution_count": 104,
      "outputs": []
    },
    {
      "cell_type": "code",
      "metadata": {
        "colab": {
          "base_uri": "https://localhost:8080/"
        },
        "id": "AuNuj3jcVFg8",
        "outputId": "8045c70d-8d35-44a5-b548-b45cbd43193f"
      },
      "source": [
        "print(calculate_perplexity('Move against Japan might boost protectionist sentiment', bigrams, unigrams, vocab))"
      ],
      "execution_count": 109,
      "outputs": [
        {
          "output_type": "stream",
          "text": [
            "4409.841652024751\n"
          ],
          "name": "stdout"
        }
      ]
    },
    {
      "cell_type": "code",
      "metadata": {
        "colab": {
          "base_uri": "https://localhost:8080/"
        },
        "id": "KMjbvObIVSfK",
        "outputId": "4c9743cd-9f02-456f-bf6e-e353f5ffbc1c"
      },
      "source": [
        "print(calculate_perplexity('Move against Japan might asian be export', bigrams, unigrams, vocab))"
      ],
      "execution_count": 108,
      "outputs": [
        {
          "output_type": "stream",
          "text": [
            "7317.823146207935\n"
          ],
          "name": "stdout"
        }
      ]
    },
    {
      "cell_type": "code",
      "metadata": {
        "id": "jNDCUKBxVYUT"
      },
      "source": [
        ""
      ],
      "execution_count": null,
      "outputs": []
    }
  ]
}